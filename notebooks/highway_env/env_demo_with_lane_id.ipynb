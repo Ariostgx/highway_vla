{
 "cells": [
  {
   "cell_type": "code",
   "execution_count": 34,
   "metadata": {},
   "outputs": [
    {
     "name": "stderr",
     "output_type": "stream",
     "text": [
      "/u/shuhan/anaconda3/envs/rl_hw/lib/python3.12/site-packages/gymnasium/core.py:311: UserWarning: \u001b[33mWARN: env.observation_type to get variables from other wrappers is deprecated and will be removed in v1.0, to get this variable you can do `env.unwrapped.observation_type` for environment variables or `env.get_wrapper_attr('observation_type')` that will search the reminding wrappers.\u001b[0m\n",
      "  logger.warn(\n"
     ]
    },
    {
     "data": {
      "text/plain": [
       "[('0', '1', 0), ('0', '1', 1), ('0', '1', 2), ('0', '1', 3), ('0', '1', 4)]"
      ]
     },
     "execution_count": 34,
     "metadata": {},
     "output_type": "execute_result"
    }
   ],
   "source": [
    "env.unwrapped.road.network.all_side_lanes(env.observation_type.observer_vehicle.lane_index)"
   ]
  },
  {
   "cell_type": "code",
   "execution_count": 70,
   "metadata": {},
   "outputs": [
    {
     "name": "stdout",
     "output_type": "stream",
     "text": [
      "The autoreload extension is already loaded. To reload it, use:\n",
      "  %reload_ext autoreload\n"
     ]
    },
    {
     "name": "stderr",
     "output_type": "stream",
     "text": [
      "100%|██████████| 1/1 [00:00<00:00, 13.83it/s]\n"
     ]
    },
    {
     "data": {
      "text/html": [
       "\n",
       "<link rel=\"stylesheet\"\n",
       "href=\"https://maxcdn.bootstrapcdn.com/font-awesome/4.4.0/css/font-awesome.min.css\">\n",
       "<script language=\"javascript\">\n",
       "  function isInternetExplorer() {\n",
       "    ua = navigator.userAgent;\n",
       "    /* MSIE used to detect old browsers and Trident used to newer ones*/\n",
       "    return ua.indexOf(\"MSIE \") > -1 || ua.indexOf(\"Trident/\") > -1;\n",
       "  }\n",
       "\n",
       "  /* Define the Animation class */\n",
       "  function Animation(frames, img_id, slider_id, interval, loop_select_id){\n",
       "    this.img_id = img_id;\n",
       "    this.slider_id = slider_id;\n",
       "    this.loop_select_id = loop_select_id;\n",
       "    this.interval = interval;\n",
       "    this.current_frame = 0;\n",
       "    this.direction = 0;\n",
       "    this.timer = null;\n",
       "    this.frames = new Array(frames.length);\n",
       "\n",
       "    for (var i=0; i<frames.length; i++)\n",
       "    {\n",
       "     this.frames[i] = new Image();\n",
       "     this.frames[i].src = frames[i];\n",
       "    }\n",
       "    var slider = document.getElementById(this.slider_id);\n",
       "    slider.max = this.frames.length - 1;\n",
       "    if (isInternetExplorer()) {\n",
       "        // switch from oninput to onchange because IE <= 11 does not conform\n",
       "        // with W3C specification. It ignores oninput and onchange behaves\n",
       "        // like oninput. In contrast, Microsoft Edge behaves correctly.\n",
       "        slider.setAttribute('onchange', slider.getAttribute('oninput'));\n",
       "        slider.setAttribute('oninput', null);\n",
       "    }\n",
       "    this.set_frame(this.current_frame);\n",
       "  }\n",
       "\n",
       "  Animation.prototype.get_loop_state = function(){\n",
       "    var button_group = document[this.loop_select_id].state;\n",
       "    for (var i = 0; i < button_group.length; i++) {\n",
       "        var button = button_group[i];\n",
       "        if (button.checked) {\n",
       "            return button.value;\n",
       "        }\n",
       "    }\n",
       "    return undefined;\n",
       "  }\n",
       "\n",
       "  Animation.prototype.set_frame = function(frame){\n",
       "    this.current_frame = frame;\n",
       "    document.getElementById(this.img_id).src =\n",
       "            this.frames[this.current_frame].src;\n",
       "    document.getElementById(this.slider_id).value = this.current_frame;\n",
       "  }\n",
       "\n",
       "  Animation.prototype.next_frame = function()\n",
       "  {\n",
       "    this.set_frame(Math.min(this.frames.length - 1, this.current_frame + 1));\n",
       "  }\n",
       "\n",
       "  Animation.prototype.previous_frame = function()\n",
       "  {\n",
       "    this.set_frame(Math.max(0, this.current_frame - 1));\n",
       "  }\n",
       "\n",
       "  Animation.prototype.first_frame = function()\n",
       "  {\n",
       "    this.set_frame(0);\n",
       "  }\n",
       "\n",
       "  Animation.prototype.last_frame = function()\n",
       "  {\n",
       "    this.set_frame(this.frames.length - 1);\n",
       "  }\n",
       "\n",
       "  Animation.prototype.slower = function()\n",
       "  {\n",
       "    this.interval /= 0.7;\n",
       "    if(this.direction > 0){this.play_animation();}\n",
       "    else if(this.direction < 0){this.reverse_animation();}\n",
       "  }\n",
       "\n",
       "  Animation.prototype.faster = function()\n",
       "  {\n",
       "    this.interval *= 0.7;\n",
       "    if(this.direction > 0){this.play_animation();}\n",
       "    else if(this.direction < 0){this.reverse_animation();}\n",
       "  }\n",
       "\n",
       "  Animation.prototype.anim_step_forward = function()\n",
       "  {\n",
       "    this.current_frame += 1;\n",
       "    if(this.current_frame < this.frames.length){\n",
       "      this.set_frame(this.current_frame);\n",
       "    }else{\n",
       "      var loop_state = this.get_loop_state();\n",
       "      if(loop_state == \"loop\"){\n",
       "        this.first_frame();\n",
       "      }else if(loop_state == \"reflect\"){\n",
       "        this.last_frame();\n",
       "        this.reverse_animation();\n",
       "      }else{\n",
       "        this.pause_animation();\n",
       "        this.last_frame();\n",
       "      }\n",
       "    }\n",
       "  }\n",
       "\n",
       "  Animation.prototype.anim_step_reverse = function()\n",
       "  {\n",
       "    this.current_frame -= 1;\n",
       "    if(this.current_frame >= 0){\n",
       "      this.set_frame(this.current_frame);\n",
       "    }else{\n",
       "      var loop_state = this.get_loop_state();\n",
       "      if(loop_state == \"loop\"){\n",
       "        this.last_frame();\n",
       "      }else if(loop_state == \"reflect\"){\n",
       "        this.first_frame();\n",
       "        this.play_animation();\n",
       "      }else{\n",
       "        this.pause_animation();\n",
       "        this.first_frame();\n",
       "      }\n",
       "    }\n",
       "  }\n",
       "\n",
       "  Animation.prototype.pause_animation = function()\n",
       "  {\n",
       "    this.direction = 0;\n",
       "    if (this.timer){\n",
       "      clearInterval(this.timer);\n",
       "      this.timer = null;\n",
       "    }\n",
       "  }\n",
       "\n",
       "  Animation.prototype.play_animation = function()\n",
       "  {\n",
       "    this.pause_animation();\n",
       "    this.direction = 1;\n",
       "    var t = this;\n",
       "    if (!this.timer) this.timer = setInterval(function() {\n",
       "        t.anim_step_forward();\n",
       "    }, this.interval);\n",
       "  }\n",
       "\n",
       "  Animation.prototype.reverse_animation = function()\n",
       "  {\n",
       "    this.pause_animation();\n",
       "    this.direction = -1;\n",
       "    var t = this;\n",
       "    if (!this.timer) this.timer = setInterval(function() {\n",
       "        t.anim_step_reverse();\n",
       "    }, this.interval);\n",
       "  }\n",
       "</script>\n",
       "\n",
       "<style>\n",
       ".animation {\n",
       "    display: inline-block;\n",
       "    text-align: center;\n",
       "}\n",
       "input[type=range].anim-slider {\n",
       "    width: 374px;\n",
       "    margin-left: auto;\n",
       "    margin-right: auto;\n",
       "}\n",
       ".anim-buttons {\n",
       "    margin: 8px 0px;\n",
       "}\n",
       ".anim-buttons button {\n",
       "    padding: 0;\n",
       "    width: 36px;\n",
       "}\n",
       ".anim-state label {\n",
       "    margin-right: 8px;\n",
       "}\n",
       ".anim-state input {\n",
       "    margin: 0;\n",
       "    vertical-align: middle;\n",
       "}\n",
       "</style>\n",
       "\n",
       "<div class=\"animation\">\n",
       "  <img id=\"_anim_img0be6397313074fdb8adbf4e95a4f3b65\">\n",
       "  <div class=\"anim-controls\">\n",
       "    <input id=\"_anim_slider0be6397313074fdb8adbf4e95a4f3b65\" type=\"range\" class=\"anim-slider\"\n",
       "           name=\"points\" min=\"0\" max=\"1\" step=\"1\" value=\"0\"\n",
       "           oninput=\"anim0be6397313074fdb8adbf4e95a4f3b65.set_frame(parseInt(this.value));\">\n",
       "    <div class=\"anim-buttons\">\n",
       "      <button title=\"Decrease speed\" aria-label=\"Decrease speed\" onclick=\"anim0be6397313074fdb8adbf4e95a4f3b65.slower()\">\n",
       "          <i class=\"fa fa-minus\"></i></button>\n",
       "      <button title=\"First frame\" aria-label=\"First frame\" onclick=\"anim0be6397313074fdb8adbf4e95a4f3b65.first_frame()\">\n",
       "        <i class=\"fa fa-fast-backward\"></i></button>\n",
       "      <button title=\"Previous frame\" aria-label=\"Previous frame\" onclick=\"anim0be6397313074fdb8adbf4e95a4f3b65.previous_frame()\">\n",
       "          <i class=\"fa fa-step-backward\"></i></button>\n",
       "      <button title=\"Play backwards\" aria-label=\"Play backwards\" onclick=\"anim0be6397313074fdb8adbf4e95a4f3b65.reverse_animation()\">\n",
       "          <i class=\"fa fa-play fa-flip-horizontal\"></i></button>\n",
       "      <button title=\"Pause\" aria-label=\"Pause\" onclick=\"anim0be6397313074fdb8adbf4e95a4f3b65.pause_animation()\">\n",
       "          <i class=\"fa fa-pause\"></i></button>\n",
       "      <button title=\"Play\" aria-label=\"Play\" onclick=\"anim0be6397313074fdb8adbf4e95a4f3b65.play_animation()\">\n",
       "          <i class=\"fa fa-play\"></i></button>\n",
       "      <button title=\"Next frame\" aria-label=\"Next frame\" onclick=\"anim0be6397313074fdb8adbf4e95a4f3b65.next_frame()\">\n",
       "          <i class=\"fa fa-step-forward\"></i></button>\n",
       "      <button title=\"Last frame\" aria-label=\"Last frame\" onclick=\"anim0be6397313074fdb8adbf4e95a4f3b65.last_frame()\">\n",
       "          <i class=\"fa fa-fast-forward\"></i></button>\n",
       "      <button title=\"Increase speed\" aria-label=\"Increase speed\" onclick=\"anim0be6397313074fdb8adbf4e95a4f3b65.faster()\">\n",
       "          <i class=\"fa fa-plus\"></i></button>\n",
       "    </div>\n",
       "    <form title=\"Repetition mode\" aria-label=\"Repetition mode\" action=\"#n\" name=\"_anim_loop_select0be6397313074fdb8adbf4e95a4f3b65\"\n",
       "          class=\"anim-state\">\n",
       "      <input type=\"radio\" name=\"state\" value=\"once\" id=\"_anim_radio1_0be6397313074fdb8adbf4e95a4f3b65\"\n",
       "             >\n",
       "      <label for=\"_anim_radio1_0be6397313074fdb8adbf4e95a4f3b65\">Once</label>\n",
       "      <input type=\"radio\" name=\"state\" value=\"loop\" id=\"_anim_radio2_0be6397313074fdb8adbf4e95a4f3b65\"\n",
       "             checked>\n",
       "      <label for=\"_anim_radio2_0be6397313074fdb8adbf4e95a4f3b65\">Loop</label>\n",
       "      <input type=\"radio\" name=\"state\" value=\"reflect\" id=\"_anim_radio3_0be6397313074fdb8adbf4e95a4f3b65\"\n",
       "             >\n",
       "      <label for=\"_anim_radio3_0be6397313074fdb8adbf4e95a4f3b65\">Reflect</label>\n",
       "    </form>\n",
       "  </div>\n",
       "</div>\n",
       "\n",
       "\n",
       "<script language=\"javascript\">\n",
       "  /* Instantiate the Animation class. */\n",
       "  /* The IDs given should match those used in the template above. */\n",
       "  (function() {\n",
       "    var img_id = \"_anim_img0be6397313074fdb8adbf4e95a4f3b65\";\n",
       "    var slider_id = \"_anim_slider0be6397313074fdb8adbf4e95a4f3b65\";\n",
       "    var loop_select_id = \"_anim_loop_select0be6397313074fdb8adbf4e95a4f3b65\";\n",
       "    var frames = new Array(1);\n",
       "    \n",
       "  frames[0] = \"data:image/png;base64,iVBORw0KGgoAAAANSUhEUgAAAoAAAAHgCAYAAAA10dzkAAAAOXRFWHRTb2Z0d2FyZQBNYXRwbG90\\\n",
       "bGliIHZlcnNpb24zLjkuMiwgaHR0cHM6Ly9tYXRwbG90bGliLm9yZy8hTgPZAAAACXBIWXMAAA9h\\\n",
       "AAAPYQGoP6dpAAApMklEQVR4nO3df5RVdb0//tf8YGb4OQPyY0BFUTFDkxSUO2ZZQqGZy1+fb+qX\\\n",
       "m66yLAPLsHtX9i3JVeujq9bNtLzYvZXo7YdppaUlyRcUsxAVJfEHJkqCwYCCMMPA/N7fP/x4vh1n\\\n",
       "QM5xYBjej8daZ8G89p7XeZ/37DnnOfvsvU9JlmVZAACQjNLeHgAAAHuXAAgAkBgBEAAgMQIgAEBi\\\n",
       "BEAAgMQIgAAAiREAAQASIwACACRGAAQASIwACACQGAEQACAxAiAAQGIEQACAxAiAAACJEQABABIj\\\n",
       "AAIAJEYABABIjAAIAJAYARAAIDECIABAYgRAAIDECIAAAIkRAAEAEiMAAgAkRgAEAEiMAAgAkBgB\\\n",
       "EAAgMQIgAEBiBEAAgMQIgAAAiREAAQASIwACACRGAAQASIwACACQGAEQACAxAiAAQGIEQACAxAiA\\\n",
       "AACJEQABABIjAAIAJEYABABIjAAIAJAYARAAIDECIABAYgRAAIDECIAAAIkRAAEAEiMAAgAkRgAE\\\n",
       "AEiMAAgAkBgBEAAgMQIgAEBiBEAAgMQIgAAAiREAAQASIwACACRGAAQASIwACACQGAEQACAxAiAA\\\n",
       "QGIEQACAxAiAAACJEQABABIjAAIAJEYABABIjAAIAJAYARAAIDECIABAYgRAAIDECIAAAIkRAAEA\\\n",
       "EiMAAgAkRgAEAEiMAAgAkBgBEAAgMQIgAEBiBEAAgMQIgAAAiREAAQASIwACACRGAAQASIwACACQ\\\n",
       "GAEQACAxAiAAQGIEQACAxAiAAACJEQABABIjAAIAJEYABABIjAAIAJAYARAAIDECIABAYgRAAIDE\\\n",
       "CIAAAIkRAAEAEiMAAgAkRgAEAEiMAAgAkBgBEAAgMQIgAEBiBEAAgMQIgAAAiREAAQASIwACACRG\\\n",
       "AAQASIwACACQGAEQACAxAiAAQGIEQACAxAiAAACJEQABABIjAAIAJEYABABIjAAIAJAYARAAIDEC\\\n",
       "IABAYgRAAIDECIAAAIkRAAEAEiMAAgAkRgAEAEiMAAgAkBgBEAAgMQIgAEBiBEAAgMQIgAAAiREA\\\n",
       "AQASIwACACRGAAQASIwACACQGAEQACAxAiAAQGIEQACAxAiAAACJEQABABIjAAIAJEYABABIjAAI\\\n",
       "AJAYARAAIDECIABAYgRAAIDECIAAAIkRAAEAEiMAAgAkRgAEAEiMAAgAkBgBEAAgMQIgAEBiBEAA\\\n",
       "gMQIgAAAiREAAQASIwACACRGAAQASIwACACQGAEQACAxAiAAQGIEQACAxAiAAACJEQABABIjAAIA\\\n",
       "JEYABABIjAAIAJAYARAAIDECIABAYgRAAIDECIAAAIkRAAEAEiMAAgAkRgAEAEiMAAgAkBgBEAAg\\\n",
       "MQIgAEBiBEAAgMQIgAAAiREAAQASk3wAvOmmm+LQQw+NqqqqmDJlSjz66KO9PSQAgD0q6QD4y1/+\\\n",
       "MmbPnh1z5syJJ554IiZOnBjTp0+PjRs39vbQAAD2mJIsy7LeHkRvmTJlSpxwwgnxgx/8ICIiOjs7\\\n",
       "4+CDD47LL788vvKVr/Ty6AAA9ozy3h5Ab2ltbY1ly5bFVVddlauVlpbGtGnTYsmSJbvVo7OzM9at\\\n",
       "WxeDBw+OkpKSPTVUAKAHZVkWjY2NMWbMmCgtTfPN0GQD4GuvvRYdHR0xatSovPqoUaNi5cqV3X5P\\\n",
       "S0tLtLS05L7+xz/+ERMmTNij4wQA9oy1a9fGQQcd1NvD6BXJBsBiXHvttXHNNdd0qV9wwQVRUVHR\\\n",
       "CyMCAArV2toat99+ewwePLi3h9Jrkg2Aw4cPj7KystiwYUNefcOGDVFbW9vt91x11VUxe/bs3NcN\\\n",
       "DQ1x8MEHR0VFhQAIAH1MyodvpfnGd0RUVFTEpEmTYuHChblaZ2dnLFy4MOrq6rr9nsrKyhgyZEje\\\n",
       "DQCgr0l2D2BExOzZs+Piiy+OyZMnx4knnhjf+973oqmpKT75yU/29tAAAPaYpAPg+eefH6+++mpc\\\n",
       "ffXVUV9fH+9973tj/vz5XU4MAQDYnyQdACMiZs2aFbNmzertYQAA7DXJHgMIAJAqARAAIDECIABA\\\n",
       "YgRAAIDECIAAAIkRAAEAEiMAAgAkRgAEAEiMAAgAkBgBEAAgMQIgAEBiBEAAgMQIgAAAiREAAQAS\\\n",
       "IwACACRGAAQASIwACACQGAEQACAxAiAAQGIEQACAxAiAAACJEQABABIjAAIAJEYABABIjAAIAJAY\\\n",
       "ARAAIDECIABAYsp7ewD7gyOOOCKqqqp6exgAwG5obm7u7SH0OgGwBxxzzDExcODA3h4GALAbmpqa\\\n",
       "ensIvU4A7AF33313VFRU9PYwAIDd0Nra2ttD6HWOAQQASMx+GwC/8Y1vRElJSd7tqKOOyi1vbm6O\\\n",
       "mTNnxgEHHBCDBg2K8847LzZs2NCLIwYA2Dv22wAYEXH00UfH+vXrc7eHH344t+xLX/pS3HPPPXHn\\\n",
       "nXfG4sWLY926dXHuuef24mgBAPaO/foYwPLy8qitre1S37p1a/z4xz+On//853HqqadGRMQtt9wS\\\n",
       "7373u+ORRx6Jf/mXf9nbQwUA2Gv26z2AL7zwQowZMyYOO+ywmDFjRqxZsyYiIpYtWxZtbW0xbdq0\\\n",
       "3LpHHXVUjB07NpYsWbLTfi0tLdHQ0JB3AwDoa/bbADhlypSYN29ezJ8/P+bOnRurV6+O97///dHY\\\n",
       "2Bj19fVRUVERNTU1ed8zatSoqK+v32nPa6+9Nqqrq3O3gw8+eA8/CgCAnrffvgV8+umn5/5/7LHH\\\n",
       "xpQpU+KQQw6JO+64I/r3719Uz6uuuipmz56d+7qhoUEIBAD6nP12D+Bb1dTUxJFHHhmrVq2K2tra\\\n",
       "aG1tjS1btuSts2HDhm6PGXxTZWVlDBkyJO8GANDXJBMAt23bFi+++GKMHj06Jk2aFP369YuFCxfm\\\n",
       "lj///POxZs2aqKur68VRAgDsefvtW8Bf/vKX48wzz4xDDjkk1q1bF3PmzImysrK48MILo7q6Oi65\\\n",
       "5JKYPXt2DBs2LIYMGRKXX3551NXVOQMYANjv7bcB8JVXXokLL7wwNm3aFCNGjIiTTz45HnnkkRgx\\\n",
       "YkRERFx//fVRWloa5513XrS0tMT06dPjP//zP3t51AAAe15JlmVZbw+ir2poaIjq6uq46KKLfBYw\\\n",
       "APQRra2tcdttt8XWrVuTPZ4/mWMAAQB4gwAIAJAYARAAIDH77Ukge1P//v2jsrJyl+t0dnZGc3Nz\\\n",
       "l3p5eXlRxw+2t7dHa2trj/SKeON4iPb29rxaRUVFlJcXt4k0NzdHZ2dnXq2qqipKS4v7m2P79u1d\\\n",
       "agMGDOixXj3dr7S0NKqqqgru1d12UmyviH17O2lra4u2trYu9crKyigrKyu4X0tLS3R0dHSp9+/f\\\n",
       "P0pKSgrut2PHjnjrIdLF9oro2W04y7LYsWNHXq2kpKToi9x3dHRES0tLXq2srOxtn9d2t1dERL9+\\\n",
       "/aJfv34F99sb20mxvSK630725ee6YreT7ra5iL77XFfsz3t/IgD2gM9+9rMxaNCgXa6zbt26+OlP\\\n",
       "f9qlfvzxx8cHP/jBgu/zr3/9a/zxj3/Mqx133HHxoQ99qOBeERH3339/LF++PK/24Q9/OI4++uii\\\n",
       "+v30pz+NdevW5dUuuOCCGDlyZFH9brzxxi5PFp/97GeLekH5wQ9+0OWJsaqqKmbNmlVwr/b29vju\\\n",
       "d7/bpV5bWxv/+q//WnC/TZs2xY9//OO82siRI+Oiiy4quFdExMqVK+N3v/tdXu3d73533iflFOKh\\\n",
       "hx6KRx55JK/2gQ98II4//viCez388MPxl7/8pUv93HPPLeoTdn7961/Hiy++2KV+ySWXFPUC+sMf\\\n",
       "/jC2bt2aV/vUpz4VAwcOLLhXlmXxH//xH3l/FJWVlcXMmTOLCpSNjY0xd+7cvFpNTU185jOfKbhX\\\n",
       "RMTq1avjzjvvzKsdfvjhcfbZZxfc6+WXX45f/vKXXepTpkyJk046qeB+jz32WDzwwANd6h/72Mfi\\\n",
       "8MMPL7jfvffeG88++2xe7aMf/WiMHz++4F4REbfccku8+uqrebVPfOITMXTo0KL6XX/99V0C72WX\\\n",
       "XVZUYPne977XJRQNHDgwPv/5zxfcq6WlJW644YYu9YMPPjjOP//8gvvV19fHbbfdllc78MAD48IL\\\n",
       "Lyy4V0TEihUr4r777surTZw4MaZOndrt+tu2bYsf/vCHRd3X/sJZwO+As4ABoO9xFrBjAAEAkuMt\\\n",
       "YNiD9uQO9mKPRQMAARD2oA0bNsSW9tciynomCJb+n9/Yqh3VMXbs2B7pCUB6BEDYg7Isix2Xrohs\\\n",
       "TFOP9Bt2TERZW3l0fry4k30AIMIxgAAAybEHEPqQxpcjSndE7PqiQwCwa/YAQh/S1hjRsqW3RwFA\\\n",
       "X2cPIPQhpRURJYV/OAMA5BEAoQ+pOTKirC2i8+1XBYCd8hYwAEBi7AGEPazi14dHVHa8/Yq7oXVQ\\\n",
       "RElnSfjgQQDeCQEQ9qCRI0fGiGxEz71n2/DGPyUH+RQQAIonAMIeVFZW1ttDAIAuHAMIAJAYARAA\\\n",
       "IDHeAgZgv5VlWaxduzayLIvBgwfHsGHDentIsE8oybIs6+1B9FUNDQ1RXV0dL730UgwePHiX665Z\\\n",
       "sybmzp3bpf6BD3wgTj/99ILv+9FHH4277rorr3byySfHGWecUXCviIi77747li5dmlf7+Mc/Hscd\\\n",
       "d1xR/ebOnRtr1qzJq33hC1+I0aNHF9Xvm9/8Zmzfvj2vds0110RFReHnw37rW9+KpqamvFr//v3j\\\n",
       "6quvLrhXW1tbt983duzYuOyyywrut3Hjxrj++uvzagceeGDMmjWr4F4REU899VT84he/yKtNnjw5\\\n",
       "zjvvvKL6/fGPf4wHH3wwr3bmmWfGSSedVHCvBQsWxKJFi7rUL7300hg3blzB/W699dZYuXJll/rX\\\n",
       "vva1GDhwYMH9vvOd78TmzZvzal/96lff9ne9O1mWxde+9rXo7Pz/zwYqKyuLb37zm1FSUvgJPVu3\\\n",
       "bo3rrrsurzZ8+PC48sorC+4VEfHCCy/ET37yk7zaMcccEzNmzCi416pVq+LHP/5xl/qHP/zhOPXU\\\n",
       "Uwvu96c//Sn+8Ic/dKlffPHFcdRRR+1Wj09c8tkYfcW8aHj8vtj0/966y3WnnDApZn/h7X/fSkvf\\\n",
       "eAPtxhtvjPXr1+ctu/LKK2P48OG7Nba3mjNnTrS2tua+LikpiW9+85tFHU/8jW98I1paWvJqgwcP\\\n",
       "jq9+9asF92pubo5rrrmmS/3www+PT3/60wX3e+WVV+Kmm27Kq40bNy4uvfTSgntFRDz++OPx61//\\\n",
       "Oq920kknxZlnntnt+o2NjXHYYYfF1q1bY8iQIUXdZ18nAL4DbwbAiy66qKggAsCet2rt+jjimntj\\\n",
       "d17utr/4ZLx633/tdHlJRAzq3xEDduyIfv36RXm5N9L6otbW1rjtttuSDoC2XAD2W/8c+nZnb+vA\\\n",
       "I46PgZffvNPlpWUR48asi0f/9/+Osg0boqampieGCXudk0AAoAADR4+Jg4t4Oxv2JQIgAPu1Ig6z\\\n",
       "3KnOjoi1L/VcP+gt3gIGYL+1Zs2aOOTfb+/Rnps3tMeWVc1RVmofCn2XrReA/VaWZVHSr+dO0hsw\\\n",
       "KKJ57cpo+dMvkj15gP2DAAjAfu31h+6MrU/c3yO9Dh0fMbS4K7zAPqVPvgX80EMPxXe+851YtmxZ\\\n",
       "rF+/Pu666644++yzc8uzLIs5c+bEf//3f8eWLVvife97X8ydOzfGjx+fW2fz5s1x+eWXxz333BOl\\\n",
       "paVx3nnnxQ033BCDBg3qhUcEwJ4wYsSI6Hh6fnT06x//ePrhXa5bPnhYjDrnil2uU1IaccCoiL/3\\\n",
       "3BChV/TJANjU1BQTJ06MT33qU3Huued2Wf7tb387brzxxrj11ltj3Lhx8fWvfz2mT58ezz77bFRV\\\n",
       "VUVExIwZM2L9+vWxYMGCaGtri09+8pNx6aWXxs9//vO9/XAA2EPevAh4Z2dnDNz28i7XbW/4e7x0\\\n",
       "3YW7XGfDsAFx3BVX9NTwoNf0+QtBl5SU5O0BzLIsxowZE1deeWV8+ctfjog3rpo/atSomDdvXlxw\\\n",
       "wQXx3HPPxYQJE+Kxxx6LyZMnR0TE/Pnz46Mf/Wi88sorMWbMmN26bxeCBth/7M7LYWdnZ7y8Zk0M\\\n",
       "HjQoRowYsRdGxZ7gQtD74TGAq1evjvr6+pg2bVquVl1dHVOmTIklS5ZERMSSJUuipqYmF/4iIqZN\\\n",
       "mxalpaVdPg7tn7W0tERDQ0PeDYD9Q0lJydveysrK4rBx44Q/+rz9LgDW19dHRMSoUaPy6qNGjcot\\\n",
       "q6+vj5EjR+YtLy8vj2HDhuXW6c61114b1dXVudvBBx/cw6MHANjz9rsAuCddddVVsXXr1txt7dq1\\\n",
       "vT0kAICC7XcBsLa2NiIiNmzYkFffsGFDblltbW1s3Lgxb3l7e3ts3rw5t053KisrY8iQIXk3AIC+\\\n",
       "Zr8LgOPGjYva2tpYuHBhrtbQ0BBLly6Nurq6iIioq6uLLVu2xLJly3LrLFq0KDo7O2PKlCl7fcwA\\\n",
       "AHtTn7wMzLZt22LVqlW5r1evXh3Lly+PYcOGxdixY+OKK66Ib33rWzF+/PjcZWDGjBmTO1P43e9+\\\n",
       "d5x22mnxmc98Jm6++eZoa2uLWbNmxQUXXLDbZwADAPRVfTIAPv744/GhD30o9/Xs2bMjIuLiiy+O\\\n",
       "efPmxb//+79HU1NTXHrppbFly5Y4+eSTY/78+blrAEZE/OxnP4tZs2bF1KlTcxeCvvHGG/f6YwEA\\\n",
       "2Nv6/HUAe9Ob1wFctmzZ236CyLp16+JnP/tZl/qJJ54Yp5xySsH3/de//jXuvz//o40mT56cF4wL\\\n",
       "cf/998df//rXvNoZZ5wREyZMKKrfz372s1i3bl1e7eKLL+5y9vXu+v73vx/Nzc15tS9+8YtFXX/x\\\n",
       "pptuiu3bt+fVKisr4wtf+ELBvdrb2+P666/vUh8zZkzMmDGj4H6bNm2Kn/zkJ3m12tra+MQnPlFw\\\n",
       "r4iIlStXxj333JNXe8973hOnnXZaUf0eeuihLpdKmjp1ahx//PEF93r44Ydzl2b6ZxdccEFRZ9j/\\\n",
       "5je/iRdffLFLfebMmTFgwICC+/3Xf/1XbN26Na/2+c9/Pndh4UJkWRbf/e53o7OzM1crKyuLL33p\\\n",
       "S1FSUlJwv8bGxrj55pvzakOHDo1Pf/rTBfeKeONdlF/96ld5tSOPPDLOOuusgnu9/PLLcccdd3Sp\\\n",
       "v+9974uTTjqp4H6PPfZYPPjgg13q5557bhx++OEF9/v9738fzz77bF7t7LPPzvukqELMmzcvXn31\\\n",
       "1bzapz/96Rg6dGhR/b73ve9FW1tbXm327NlRVlZWcK8bbrghWltb82qDBg2Kyy67rOBeLS0t3e4k\\\n",
       "GTt2bJx//vkF96uvr4//+Z//yasddNBBceGFu74Q986sWLEi5s+fn1ebNGlSnHrqqd2uv23btpg0\\\n",
       "aVLS1wEUAN+BNwPg5z73uaisrNzluh0dHV0CTEREv379igoxbW1tXX6xi+0V8cYvd3t7e16tsrIy\\\n",
       "ysuL20m8Y8eOvBe7iIj+/ftHaWlxh502NTV1qQ0YMKCoF8/uekVEUS/sO+tXWloa/fv3L7hXZ2dn\\\n",
       "7Nixo0d6RbwRUFtaWvJq5eXlb7u97kxra2uXF6eKioro169fj/SKiKiqqirqxa65uTk6Ojq61Ivd\\\n",
       "TrZv397lwsDF9orofjspdpvLsqzLHzElJSVFBd2I7p+fysrK8t41eSe9Inr2uS6i+O2kLz7X9eRz\\\n",
       "U7HbSXfbXETx20lvP9e1tLTEzTffLAD29iD6Kp8EAgB9j08C2Q/PAgYAYNf65EkgwN7x+uuvd/t2\\\n",
       "3jtVVVVV9DFS+4PNmzd3ebuqJ6Q+r8DuEwCBnWpqaorq/+v/iX7VPfO5p4ceGdHe8Fos/9a3kg4q\\\n",
       "TU1NMfTCa6J8UE2P9Bv3rojWzRviqeuuS3pegd0nAAK7VFk7LioOOLBHetUcEdG2Jc3jbd6qcvRh\\\n",
       "PRasa8ZHNG8o7uB5IE0CILDXbG+KaNvW26PY/2zfFtHS/cntAN0SAIG9Zs2LEa2be3sU+5+XV0W0\\\n",
       "vvr26wG8yVnAAACJsQcQ2GvGvSui/fWIjb09kP3MYUdFtAyLsBMQ2F0CILDXVFZGlBb+oQG8jcqq\\\n",
       "iKy4D3cBEiUAAru0/cUno3Xjmh7pVd8c0bHNQYAREdtfWBZlA6t7pFd9S0TbFvv/gN0nAAI7NWTI\\\n",
       "kGhZ+KPo+om9xXnhn/qmbMiQIdG64OYe6/e3//Pv4MGDe6wnsH8TAIGdSj2o7SnV1T2z5w+gWM4C\\\n",
       "BgBIjAAIAJAYbwEDADlZlkVjY2Pu6wEDBkR5ubiwv/ET7QFnnXVWDBw4cJfrbNq0KR544IEu9SOP\\\n",
       "PDKOPfbYgu/zpZdeiieeeCKvNn78+Jg4cWLBvSIinnjiiXjppZfyaieccEIccsghRfVbtGhRbN6c\\\n",
       "f7bntGnToqampqh+v/vd76K1tTWvdvbZZxf1pHTPPfdES0tLXq1fv35x1llnFdyro6Mj7rrrri71\\\n",
       "YcOGxamnnlpwv4aGhrj//vvzakOHDo2pU6cW3CsiYu3atbF06dK82qGHHhqTJ08uqt+KFSvi+eef\\\n",
       "z6u9973vjSOOOKLgXs8880w899xzXeqnnHJKjBhR+Gfk/vnPf47169d3qX/sYx+LqqrCrz1z3333\\\n",
       "RVNT/uernXHGGdG/f+GfuZtlWfzmN7+JLMtytdLS0jjnnHOipKSk4H7bt2+PP/zhD3m1QYMGxWmn\\\n",
       "nVZwr4iI+vr6ePjhh/NqBx54YNTV1RXca8OGDfGnP/2pS33ChAkxYcKEgvv97W9/i6eeeqpL/aST\\\n",
       "TooxY8YU3O/RRx+NNWvyz2qvq6uLAw8s7vOuFyxYEFu3bs2rTZ8+vagTcrIsi7vvvjs6Ojry6uec\\\n",
       "c06UlZUV3Ou3v/1ttLe359WrqqriYx/72C6/t62tLf5j7o9i6Ps/HhERrz+9MLLNO79653HHHVfw\\\n",
       "trJ58+ZYtGhRXm348OHxwQ9+sKA+b1q9enUsW7Ysr3bEEUfEe9/73m7Xb2pqittuu62o+9pfCIA9\\\n",
       "4Nlnn33bF5gdO3Z0W3/ttddixYoVBd/nli1beqxXRHQJaxERr7zySjQ0NBTVb/v27V1qq1atisrK\\\n",
       "4i5W9tYnsYg3AkRpaeFHMXTXq6Ojo6i5++cX9H+2ffv2ovq9NeRGvLHtFPtz/ee/4t/0+uuvF93v\\\n",
       "1Ve7Xmpk3bp1O92+d+W1117rtv7SSy9FfX19wf12tq2uXLmy4BfPiO5/FitXrix6T8hbt5Usy+Lp\\\n",
       "p58uqld323BLS0vRP9e3Bt2IiK1btxbVr7vf/YiIjRs3dgk2u6O756aIiJdffjk2bdpUcL/unjvX\\\n",
       "rFmz0/t5O83NzV1qf/vb36KioqKofp2dnV1qzzzzTFF/KHTXq729/W1/rh0dHVE2sCYO+ND/HRER\\\n",
       "zeMnRUfzzj9s+pX1T8fvf//7nS7v169fjB49Oq/W3bw1NTUVvQ2/NYRHvLHjZWf9urv/1JRkO3sF\\\n",
       "4201NDREdXV1XHTRRUX/sgPAvqSzszNebuyIcVfO2731W5ujs2XnfwS2bXol6m/5t+hsb48xtbVF\\\n",
       "7UXvaa2trXHbbbfF1q1bk73agT2AAEDRSiuqorRi5++CDRxZE1Puuy+Wf//70fyWQ1LoPQIgALAH\\\n",
       "lUQR72Czh7kMDACQ89rmLXHAtIt6rF97a8QrqyMaizuknD1EAAQAchq3bYvBx36ox/p1dES8/Kel\\\n",
       "0f7cE0WfCEjPEwABgDydOxqjY3tDdLZ1PRu+UGVlEVlzQ5Q0NxZ1Rj57hmMAAYCcyvLSeOXa/xUR\\\n",
       "EYP+5ezoP+Hkna5bVjUoKkcfttPlJSURR0+KWPN6xEs7XYveIAACADkHHXRQ7v8Nzy+OxuXzd7pu\\\n",
       "SU1tlB/7kZ0uLy0vjTjhnB4dHz1DAAQAujVkyJBdXievvb0tmh69Y+cNSkpiaeMz0bR+vWPO9jEC\\\n",
       "IABQlPLy8qiurt7p8izLovWFF2JwRJQlesHlfZUACADsESUlJc783UfZIwsAkBgBEAAgMQIgAEBi\\\n",
       "HAP4DmRZFhERra3v/EKZAMDe8ebr9puv4ykqyVJ+9O/QSy+9FIcffnhvDwMAKMLatWvzrnuYEnsA\\\n",
       "34Fhw4ZFRMSaNWt2eRo8b6+hoSEOPvjgWLt27S6vOcXbM5c9wzz2HHPZc8xlz8iyLBobG2PMmDG9\\\n",
       "PZReIwC+A6WlbxxCWV1d7Rexh7zdRUfZfeayZ5jHnmMue465fOdS33HjJBAAgMQIgAAAiREA34HK\\\n",
       "ysqYM2eOq5z3AHPZc8xlzzCPPcdc9hxzSU9xFjAAQGLsAQQASIwACACQGAEQACAxAiAAQGIEwHfg\\\n",
       "pptuikMPPTSqqqpiypQp8eijj/b2kPYpDz30UJx55pkxZsyYKCkpibvvvjtveZZlcfXVV8fo0aOj\\\n",
       "f//+MW3atHjhhRfy1tm8eXPMmDEjhgwZEjU1NXHJJZfEtm3b9uKj2Ddce+21ccIJJ8TgwYNj5MiR\\\n",
       "cfbZZ8fzzz+ft05zc3PMnDkzDjjggBg0aFCcd955sWHDhrx11qxZE2eccUYMGDAgRo4cGf/2b/8W\\\n",
       "7e3te/Oh9Kq5c+fGsccem7uIbl1dXdx333255eaweNddd12UlJTEFVdckauZz93zjW98I0pKSvJu\\\n",
       "Rx11VG65eWRPEACL9Mtf/jJmz54dc+bMiSeeeCImTpwY06dPj40bN/b20PYZTU1NMXHixLjpppu6\\\n",
       "Xf7tb387brzxxrj55ptj6dKlMXDgwJg+fXo0Nzfn1pkxY0Y888wzsWDBgrj33nvjoYceiksvvXRv\\\n",
       "PYR9xuLFi2PmzJnxyCOPxIIFC6KtrS0+8pGPRFNTU26dL33pS3HPPffEnXfeGYsXL45169bFueee\\\n",
       "m1ve0dERZ5xxRrS2tsZf/vKXuPXWW2PevHlx9dVX98ZD6hUHHXRQXHfddbFs2bJ4/PHH49RTT42z\\\n",
       "zjornnnmmYgwh8V67LHH4oc//GEce+yxeXXzufuOPvroWL9+fe728MMP55aZR/aIjKKceOKJ2cyZ\\\n",
       "M3Nfd3R0ZGPGjMmuvfbaXhzVvisisrvuuiv3dWdnZ1ZbW5t95zvfydW2bNmSVVZWZr/4xS+yLMuy\\\n",
       "Z599NouI7LHHHsutc99992UlJSXZP/7xj7029n3Rxo0bs4jIFi9enGXZG3PXr1+/7M4778yt89xz\\\n",
       "z2URkS1ZsiTLsiz7wx/+kJWWlmb19fW5debOnZsNGTIka2lp2bsPYB8ydOjQ7Ec/+pE5LFJjY2M2\\\n",
       "fvz4bMGCBdkpp5ySffGLX8yyzDZZiDlz5mQTJ07sdpl5ZE+xB7AIra2tsWzZspg2bVquVlpaGtOm\\\n",
       "TYslS5b04sj6jtWrV0d9fX3eHFZXV8eUKVNyc7hkyZKoqamJyZMn59aZNm1alJaWxtKlS/f6mPcl\\\n",
       "W7dujYiIYcOGRUTEsmXLoq2tLW8+jzrqqBg7dmzefL7nPe+JUaNG5daZPn16NDQ05PaApaSjoyNu\\\n",
       "v/32aGpqirq6OnNYpJkzZ8YZZ5yRN28RtslCvfDCCzFmzJg47LDDYsaMGbFmzZqIMI/sOeW9PYC+\\\n",
       "6LXXXouOjo68X7aIiFGjRsXKlSt7aVR9S319fUREt3P45rL6+voYOXJk3vLy8vIYNmxYbp0UdXZ2\\\n",
       "xhVXXBHve9/74phjjomIN+aqoqIiampq8tZ963x2N99vLkvFihUroq6uLpqbm2PQoEFx1113xYQJ\\\n",
       "E2L58uXmsEC33357PPHEE/HYY491WWab3H1TpkyJefPmxbve9a5Yv359XHPNNfH+978/nn76afPI\\\n",
       "HiMAQh8zc+bMePrpp/OOEWL3vetd74rly5fH1q1b41e/+lVcfPHFsXjx4t4eVp+zdu3a+OIXvxgL\\\n",
       "FiyIqqqq3h5On3b66afn/n/sscfGlClT4pBDDok77rgj+vfv34sjY3/mLeAiDB8+PMrKyrqchbVh\\\n",
       "w4aora3tpVH1LW/O067msLa2tstJNe3t7bF58+Zk53nWrFlx7733xgMPPBAHHXRQrl5bWxutra2x\\\n",
       "ZcuWvPXfOp/dzfeby1JRUVERRxxxREyaNCmuvfbamDhxYtxwww3msEDLli2LjRs3xvHHHx/l5eVR\\\n",
       "Xl4eixcvjhtvvDHKy8tj1KhR5rNINTU1ceSRR8aqVatsl+wxAmARKioqYtKkSbFw4cJcrbOzMxYu\\\n",
       "XBh1dXW9OLK+Y9y4cVFbW5s3hw0NDbF06dLcHNbV1cWWLVti2bJluXUWLVoUnZ2dMWXKlL0+5t6U\\\n",
       "ZVnMmjUr7rrrrli0aFGMGzcub/mkSZOiX79+efP5/PPPx5o1a/Lmc8WKFXmhesGCBTFkyJCYMGHC\\\n",
       "3nkg+6DOzs5oaWkxhwWaOnVqrFixIpYvX567TZ48OWbMmJH7v/kszrZt2+LFF1+M0aNH2y7Zc3r7\\\n",
       "LJS+6vbbb88qKyuzefPmZc8++2x26aWXZjU1NXlnYaWusbExe/LJJ7Mnn3wyi4jsu9/9bvbkk09m\\\n",
       "L7/8cpZlWXbddddlNTU12W9/+9vsqaeeys4666xs3Lhx2Y4dO3I9TjvttOy4447Lli5dmj388MPZ\\\n",
       "+PHjswsvvLC3HlKvueyyy7Lq6urswQcfzNavX5+7bd++PbfO5z73uWzs2LHZokWLsscffzyrq6vL\\\n",
       "6urqcsvb29uzY445JvvIRz6SLV++PJs/f342YsSI7KqrruqNh9QrvvKVr2SLFy/OVq9enT311FPZ\\\n",
       "V77ylaykpCS7//77sywzh+/UP58FnGXmc3ddeeWV2YMPPpitXr06+/Of/5xNmzYtGz58eLZx48Ys\\\n",
       "y8wje4YA+A58//vfz8aOHZtVVFRkJ554YvbII4/09pD2KQ888EAWEV1uF198cZZlb1wK5utf/3o2\\\n",
       "atSorLKyMps6dWr2/PPP5/XYtGlTduGFF2aDBg3KhgwZkn3yk5/MGhsbe+HR9K7u5jEisltuuSW3\\\n",
       "zo4dO7LPf/7z2dChQ7MBAwZk55xzTrZ+/fq8Pn//+9+z008/Pevfv382fPjw7Morr8za2tr28qPp\\\n",
       "PZ/61KeyQw45JKuoqMhGjBiRTZ06NRf+sswcvlNvDYDmc/ecf/752ejRo7OKiorswAMPzM4///xs\\\n",
       "1apVueXmkT2hJMuyrHf2PQIA0BscAwgAkBgBEAAgMQIgAEBiBEAAgMQIgAAAiREAAQASIwACACRG\\\n",
       "AAQASIwACACQGAEQACAxAiAAQGIEQACAxAiAAACJEQABABIjAAIAJEYABABIjAAIAJAYARAAIDEC\\\n",
       "IABAYgRAAIDECIAAAIkRAAEAEiMAAgAkRgAEAEiMAAgAkBgBEAAgMQIgAEBiBEAAgMQIgAAAiREA\\\n",
       "AQASIwACACRGAAQASIwACACQGAEQACAxAiAAQGIEQACAxAiAAACJEQABABIjAAIAJEYABABIjAAI\\\n",
       "AJAYARAAIDECIABAYgRAAIDECIAAAIkRAAEAEiMAAgAkRgAEAEiMAAgAkBgBEAAgMQIgAEBiBEAA\\\n",
       "gMQIgAAAiREAAQASIwACACRGAAQASIwACACQGAEQACAxAiAAQGIEQACAxAiAAACJEQABABIjAAIA\\\n",
       "JEYABABIjAAIAJAYARAAIDECIABAYgRAAIDECIAAAIkRAAEAEiMAAgAkRgAEAEiMAAgAkBgBEAAg\\\n",
       "MQIgAEBiBEAAgMQIgAAAiREAAQASIwACACRGAAQASIwACACQGAEQACAxAiAAQGIEQACAxAiAAACJ\\\n",
       "EQABABIjAAIAJEYABABIjAAIAJAYARAAIDECIABAYgRAAIDECIAAAIkRAAEAEiMAAgAkRgAEAEiM\\\n",
       "AAgAkBgBEAAgMQIgAEBiBEAAgMQIgAAAiREAAQASIwACACRGAAQASIwACACQGAEQACAxAiAAQGIE\\\n",
       "QACAxAiAAACJEQABABIjAAIAJEYABABIjAAIAJAYARAAIDECIABAYgRAAIDECIAAAIkRAAEAEiMA\\\n",
       "AgAkRgAEAEiMAAgAkBgBEAAgMQIgAEBiBEAAgMQIgAAAiREAAQASIwACACRGAAQASIwACACQGAEQ\\\n",
       "ACAxAiAAQGIEQACAxAiAAACJEQABABIjAAIAJEYABABIjAAIAJAYARAAIDECIABAYgRAAIDECIAA\\\n",
       "AIkRAAEAEiMAAgAkRgAEAEiMAAgAkBgBEAAgMQIgAEBiBEAAgMQIgAAAiREAAQASIwACACRGAAQA\\\n",
       "SIwACACQGAEQACAx/x8iIMLNedxj6AAAAABJRU5ErkJggg==\\\n",
       "\"\n",
       "\n",
       "\n",
       "    /* set a timeout to make sure all the above elements are created before\n",
       "       the object is initialized. */\n",
       "    setTimeout(function() {\n",
       "        anim0be6397313074fdb8adbf4e95a4f3b65 = new Animation(frames, img_id, slider_id, 200.0,\n",
       "                                 loop_select_id);\n",
       "    }, 0);\n",
       "  })()\n",
       "</script>\n"
      ],
      "text/plain": [
       "<IPython.core.display.HTML object>"
      ]
     },
     "execution_count": 70,
     "metadata": {},
     "output_type": "execute_result"
    }
   ],
   "source": [
    "%load_ext autoreload\n",
    "%autoreload 2\n",
    "\n",
    "from IPython.display import HTML\n",
    "import tqdm\n",
    "import gymnasium\n",
    "import highway_env\n",
    "from matplotlib import pyplot as plt\n",
    "%matplotlib inline\n",
    "\n",
    "env = gymnasium.make('highway-fast-v0', render_mode='rgb_array',\n",
    "                     config={\"lanes_count\": 5})\n",
    "env.reset()\n",
    "\n",
    "import matplotlib.animation as animation\n",
    "\n",
    "frames = []\n",
    "for _ in tqdm.trange(1):\n",
    "    action = env.unwrapped.action_type.actions_indexes[\"FASTER\"]\n",
    "    obs, reward, done, truncated, info = env.step(action)\n",
    "    frames.append(env.render())\n",
    "\n",
    "fig, ax = plt.subplots()\n",
    "ani = animation.ArtistAnimation(fig, [[ax.imshow(frame)] for frame in frames], interval=200, blit=True, repeat_delay=1000)\n",
    "plt.close(fig)  # Prevent the static image from displaying\n",
    "ani.save('environment_steps.gif', writer='pillow')\n",
    "\n",
    "HTML(ani.to_jshtml())"
   ]
  },
  {
   "cell_type": "code",
   "execution_count": 71,
   "metadata": {},
   "outputs": [],
   "source": [
    "import numpy as np\n",
    "\n",
    "# abs_y = obs[:, :, 2]\n",
    "lane_cnt = 5\n",
    "\n",
    "lane_width = 1.0 / lane_cnt\n",
    "\n",
    "abs_y = obs[..., 2].copy()\n",
    "abs_y[1:] += abs_y[:1]\n",
    "abs_y += lane_width / 2\n",
    "\n",
    "lane_id = (abs_y / lane_width).astype(np.int32)"
   ]
  },
  {
   "cell_type": "code",
   "execution_count": 72,
   "metadata": {},
   "outputs": [
    {
     "data": {
      "text/plain": [
       "array([1, 3, 3, 2, 4], dtype=int32)"
      ]
     },
     "execution_count": 72,
     "metadata": {},
     "output_type": "execute_result"
    }
   ],
   "source": [
    "lane_id"
   ]
  },
  {
   "cell_type": "markdown",
   "metadata": {},
   "source": [
    "# Load from file"
   ]
  },
  {
   "cell_type": "code",
   "execution_count": 170,
   "metadata": {},
   "outputs": [
    {
     "data": {
      "text/plain": [
       "((30, 5, 5), (30,))"
      ]
     },
     "execution_count": 170,
     "metadata": {},
     "output_type": "execute_result"
    }
   ],
   "source": [
    "import numpy as np\n",
    "\n",
    "file_name = '/storage/Datasets/highway_env/highway_fast_v0_dqn_meta_action_5_lanes/rollouts_train/rollout_57775.npz'\n",
    "data = np.load(file_name)\n",
    "observations = data['observations']\n",
    "actions = data['actions']\n",
    "\n",
    "observations.shape, actions.shape"
   ]
  },
  {
   "cell_type": "code",
   "execution_count": 171,
   "metadata": {},
   "outputs": [
    {
     "data": {
      "text/plain": [
       "array([0. , 0. , 0.8, 0.2, 0.4], dtype=float32)"
      ]
     },
     "execution_count": 171,
     "metadata": {},
     "output_type": "execute_result"
    }
   ],
   "source": [
    "observations[0, :, 2]"
   ]
  },
  {
   "cell_type": "code",
   "execution_count": 172,
   "metadata": {},
   "outputs": [],
   "source": [
    "import numpy as np\n",
    "\n",
    "# abs_y = obs[:, :, 2]\n",
    "lane_cnt = 5\n",
    "\n",
    "lane_width = 1.0 / lane_cnt\n",
    "\n",
    "abs_y = observations[..., 2].copy()\n",
    "abs_y[:, 1:] += abs_y[:, :1]\n",
    "abs_y += lane_width / 2\n",
    "\n",
    "lane_id = (abs_y / lane_width).astype(np.int32)"
   ]
  },
  {
   "cell_type": "code",
   "execution_count": 173,
   "metadata": {},
   "outputs": [],
   "source": [
    "ego_lane_id = lane_id[:, 0]"
   ]
  },
  {
   "cell_type": "code",
   "execution_count": 174,
   "metadata": {},
   "outputs": [
    {
     "data": {
      "text/plain": [
       "array([0, 0, 1, 2, 3, 3, 4, 4, 4, 4, 3, 2, 2, 2, 3, 4, 4, 4, 4, 4, 4, 4,\n",
       "       4, 4, 4, 3, 3, 3, 3, 2], dtype=int32)"
      ]
     },
     "execution_count": 174,
     "metadata": {},
     "output_type": "execute_result"
    }
   ],
   "source": [
    "ego_lane_id"
   ]
  },
  {
   "cell_type": "code",
   "execution_count": 175,
   "metadata": {},
   "outputs": [
    {
     "name": "stdout",
     "output_type": "stream",
     "text": [
      "The autoreload extension is already loaded. To reload it, use:\n",
      "  %reload_ext autoreload\n"
     ]
    }
   ],
   "source": [
    "%load_ext autoreload\n",
    "%autoreload 2\n",
    "\n",
    "import sys\n",
    "sys.path.append('/u/shuhan/projects/vla')\n",
    "\n",
    "from src.auto_labeling.highway_env.lane_change import LaneChangeTaskSpec\n",
    "\n",
    "# cfgs = {'lanes_count': 5, 'max_hop': 4, 'cot_index_mode': 'right_before_next_action'}\n",
    "cfgs = {'lanes_count': 5, 'max_hop': 4, 'cot_index_mode': 'both'}\n",
    "\n",
    "task_spec = LaneChangeTaskSpec(observations, actions, cfgs)"
   ]
  },
  {
   "cell_type": "code",
   "execution_count": 176,
   "metadata": {},
   "outputs": [
    {
     "data": {
      "text/plain": [
       "{'hop_lane_ids': [0, 1, 2, 3, 4], 'hop_indices': array([0, 1, 2, 3, 5])}"
      ]
     },
     "execution_count": 176,
     "metadata": {},
     "output_type": "execute_result"
    }
   ],
   "source": [
    "task_spec.get_task_hop_info()"
   ]
  },
  {
   "cell_type": "code",
   "execution_count": 177,
   "metadata": {},
   "outputs": [
    {
     "data": {
      "text/plain": [
       "'Goal is to reach Lane 4. Need to go through path Lane 0 -> Lane 1 -> Lane 2 -> Lane 3 -> Lane 4.'"
      ]
     },
     "execution_count": 177,
     "metadata": {},
     "output_type": "execute_result"
    }
   ],
   "source": [
    "task_spec.get_goal_spec()"
   ]
  },
  {
   "cell_type": "code",
   "execution_count": 178,
   "metadata": {},
   "outputs": [
    {
     "data": {
      "text/plain": [
       "'Now at Goal Lane 4. Finished.'"
      ]
     },
     "execution_count": 178,
     "metadata": {},
     "output_type": "execute_result"
    }
   ],
   "source": [
    "task_spec.get_ending_spec()"
   ]
  },
  {
   "cell_type": "code",
   "execution_count": 179,
   "metadata": {},
   "outputs": [
    {
     "data": {
      "text/plain": [
       "np.int64(1)"
      ]
     },
     "execution_count": 179,
     "metadata": {},
     "output_type": "execute_result"
    }
   ],
   "source": [
    "actions[11]"
   ]
  },
  {
   "cell_type": "code",
   "execution_count": 180,
   "metadata": {},
   "outputs": [
    {
     "data": {
      "text/plain": [
       "array([0, 0, 1, 2, 3, 3, 4, 4, 4, 4, 3, 2, 2, 2, 3, 4, 4, 4, 4, 4, 4, 4,\n",
       "       4, 4, 4, 3, 3, 3, 3, 2], dtype=int32)"
      ]
     },
     "execution_count": 180,
     "metadata": {},
     "output_type": "execute_result"
    }
   ],
   "source": [
    "ego_lane_id"
   ]
  },
  {
   "cell_type": "code",
   "execution_count": 181,
   "metadata": {},
   "outputs": [
    {
     "data": {
      "text/plain": [
       "{1: 'Now at Lane 0. Follow Lane 1 -> Lane 2 -> Lane 3 and reach Lane 4. Next is Lane 1. Action: turn right.',\n",
       " 0: 'Now at Lane 0. Follow Lane 1 -> Lane 2 -> Lane 3 and reach Lane 4. Next is Lane 1. Action: turn right.',\n",
       " 2: 'Now at Lane 1. Follow Lane 2 -> Lane 3 and reach Lane 4. Next is Lane 2. Action: turn right.',\n",
       " 3: 'Now at Lane 2. Follow Lane 3 and reach Lane 4. Next is Lane 3. Action: turn right.',\n",
       " 5: 'Now at Lane 3. Goal Reachable. Next is Lane 4. Action: turn right.',\n",
       " 4: 'Now at Lane 3. Goal Reachable. Next is Lane 4. Action: turn right.'}"
      ]
     },
     "execution_count": 181,
     "metadata": {},
     "output_type": "execute_result"
    }
   ],
   "source": [
    "task_spec.get_multi_step_cot_prompt()"
   ]
  }
 ],
 "metadata": {
  "kernelspec": {
   "display_name": "vla_hw",
   "language": "python",
   "name": "python3"
  },
  "language_info": {
   "codemirror_mode": {
    "name": "ipython",
    "version": 3
   },
   "file_extension": ".py",
   "mimetype": "text/x-python",
   "name": "python",
   "nbconvert_exporter": "python",
   "pygments_lexer": "ipython3",
   "version": "3.1.-1"
  }
 },
 "nbformat": 4,
 "nbformat_minor": 2
}
