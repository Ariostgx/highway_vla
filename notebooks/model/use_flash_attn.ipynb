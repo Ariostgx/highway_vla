{
 "cells": [
  {
   "cell_type": "code",
   "execution_count": 1,
   "metadata": {},
   "outputs": [],
   "source": [
    "%load_ext autoreload\n",
    "%autoreload 2\n",
    "import sys\n",
    "sys.path.append('/u/shuhan/projects/vla')"
   ]
  },
  {
   "cell_type": "code",
   "execution_count": 2,
   "metadata": {},
   "outputs": [
    {
     "name": "stderr",
     "output_type": "stream",
     "text": [
      "/u/shuhan/anaconda3/envs/vla_hw/lib/python3.12/site-packages/tqdm/auto.py:21: TqdmWarning: IProgress not found. Please update jupyter and ipywidgets. See https://ipywidgets.readthedocs.io/en/stable/user_install.html\n",
      "  from .autonotebook import tqdm as notebook_tqdm\n"
     ]
    }
   ],
   "source": [
    "from src.models.vlas.cont_obs_token_action_cot_unified_token_collision import ContObsTokenActionCOTVLAUnifiedTokenCollision\n",
    "from src.auto_labeling.highway_env.lane_change import LaneChangeTaskSpecCollision\n",
    "from transformers import AutoModelForCausalLM, AutoTokenizer\n",
    "\n",
    "llm_model = 'HuggingFaceTB/SmolLM2-135M-Instruct'\n",
    "# llm_model = \"HuggingFaceTB/SmolLM2-360M-Instruct\"\n",
    "\n",
    "llm_backbone = AutoModelForCausalLM.from_pretrained(llm_model)\n",
    "tokenizer = AutoTokenizer.from_pretrained(llm_model)"
   ]
  },
  {
   "cell_type": "code",
   "execution_count": 4,
   "metadata": {},
   "outputs": [],
   "source": [
    "import torch\n",
    "from torch import nn\n",
    "from torch.nn.functional import scaled_dot_product_attention\n",
    "from transformers import AutoModel, AutoConfig\n",
    "\n",
    "class ScaledDotProductAttention(nn.Module):\n",
    "    def __init__(self, embed_dim, num_heads):\n",
    "        super().__init__()\n",
    "        self.embed_dim = embed_dim\n",
    "        self.num_heads = num_heads\n",
    "        self.head_dim = embed_dim // num_heads\n",
    "        assert self.head_dim * num_heads == self.embed_dim, \"embed_dim must be divisible by num_heads\"\n",
    "\n",
    "        # Projection layers\n",
    "        self.q_proj = nn.Linear(embed_dim, embed_dim)\n",
    "        self.k_proj = nn.Linear(embed_dim, embed_dim)\n",
    "        self.v_proj = nn.Linear(embed_dim, embed_dim)\n",
    "        self.out_proj = nn.Linear(embed_dim, embed_dim)\n",
    "\n",
    "    def forward(self, hidden_states, attention_mask=None):\n",
    "        batch_size, seq_length, embed_dim = hidden_states.size()\n",
    "\n",
    "        # Linear projections for query, key, and value\n",
    "        query = self.q_proj(hidden_states).view(batch_size, seq_length, self.num_heads, self.head_dim).transpose(1, 2)\n",
    "        key = self.k_proj(hidden_states).view(batch_size, seq_length, self.num_heads, self.head_dim).transpose(1, 2)\n",
    "        value = self.v_proj(hidden_states).view(batch_size, seq_length, self.num_heads, self.head_dim).transpose(1, 2)\n",
    "\n",
    "        # Compute attention using scaled_dot_product_attention\n",
    "        attention_output = scaled_dot_product_attention(query, key, value, attn_mask=attention_mask)\n",
    "\n",
    "        # Reshape and apply output projection\n",
    "        attention_output = attention_output.transpose(1, 2).contiguous().view(batch_size, seq_length, embed_dim)\n",
    "        return self.out_proj(attention_output)\n",
    "\n",
    "# Load a HuggingFace model and replace its attention layers\n",
    "class FlashAttentionTransformer(nn.Module):\n",
    "    def __init__(self, model_name):\n",
    "        super().__init__()\n",
    "        self.base_model = AutoModel.from_pretrained(model_name)\n",
    "        self.replace_attention_layers()\n",
    "\n",
    "    def replace_attention_layers(self):\n",
    "        for name, module in self.base_model.named_modules():\n",
    "            if isinstance(module, nn.MultiheadAttention):\n",
    "                # Replace with custom ScaledDotProductAttention\n",
    "                embed_dim = module.embed_dim\n",
    "                num_heads = module.num_heads\n",
    "                replacement_layer = ScaledDotProductAttention(embed_dim, num_heads)\n",
    "                parent_module = self.get_parent_module(name)\n",
    "                setattr(parent_module, name.split('.')[-1], replacement_layer)\n",
    "                print(f'Replaced {name} with FlashAttention')\n",
    "\n",
    "    def get_parent_module(self, name):\n",
    "        parent = self.base_model\n",
    "        for part in name.split('.')[:-1]:\n",
    "            parent = getattr(parent, part)\n",
    "        return parent\n",
    "\n",
    "    def forward(self, *args, **kwargs):\n",
    "        return self.base_model(*args, **kwargs)\n"
   ]
  },
  {
   "cell_type": "code",
   "execution_count": 5,
   "metadata": {},
   "outputs": [],
   "source": [
    "flash_model = FlashAttentionTransformer(llm_model)"
   ]
  },
  {
   "cell_type": "code",
   "execution_count": 14,
   "metadata": {},
   "outputs": [
    {
     "data": {
      "text/plain": [
       "LlamaDecoderLayer(\n",
       "  (self_attn): LlamaSdpaAttention(\n",
       "    (q_proj): Linear(in_features=576, out_features=576, bias=False)\n",
       "    (k_proj): Linear(in_features=576, out_features=192, bias=False)\n",
       "    (v_proj): Linear(in_features=576, out_features=192, bias=False)\n",
       "    (o_proj): Linear(in_features=576, out_features=576, bias=False)\n",
       "    (rotary_emb): LlamaRotaryEmbedding()\n",
       "  )\n",
       "  (mlp): LlamaMLP(\n",
       "    (gate_proj): Linear(in_features=576, out_features=1536, bias=False)\n",
       "    (up_proj): Linear(in_features=576, out_features=1536, bias=False)\n",
       "    (down_proj): Linear(in_features=1536, out_features=576, bias=False)\n",
       "    (act_fn): SiLU()\n",
       "  )\n",
       "  (input_layernorm): LlamaRMSNorm((576,), eps=1e-05)\n",
       "  (post_attention_layernorm): LlamaRMSNorm((576,), eps=1e-05)\n",
       ")"
      ]
     },
     "execution_count": 14,
     "metadata": {},
     "output_type": "execute_result"
    }
   ],
   "source": [
    "flash_model.base_model.layers[3]"
   ]
  }
 ],
 "metadata": {
  "kernelspec": {
   "display_name": "vla_hw",
   "language": "python",
   "name": "python3"
  },
  "language_info": {
   "codemirror_mode": {
    "name": "ipython",
    "version": 3
   },
   "file_extension": ".py",
   "mimetype": "text/x-python",
   "name": "python",
   "nbconvert_exporter": "python",
   "pygments_lexer": "ipython3",
   "version": "3.12.7"
  }
 },
 "nbformat": 4,
 "nbformat_minor": 2
}
