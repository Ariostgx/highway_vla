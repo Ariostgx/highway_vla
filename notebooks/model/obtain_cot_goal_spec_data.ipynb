{
 "cells": [
  {
   "cell_type": "code",
   "execution_count": 1,
   "metadata": {},
   "outputs": [],
   "source": [
    "%load_ext autoreload\n",
    "%autoreload 2\n",
    "import sys\n",
    "sys.path.append('/u/shuhan/projects/vla')\n",
    "\n",
    "from src.environments.highway_env.dataset import HighwayDataset, collate_fn"
   ]
  },
  {
   "cell_type": "code",
   "execution_count": 2,
   "metadata": {},
   "outputs": [],
   "source": [
    "import torch\n",
    "from torch.utils.data import DataLoader"
   ]
  },
  {
   "cell_type": "code",
   "execution_count": 5,
   "metadata": {},
   "outputs": [
    {
     "name": "stdout",
     "output_type": "stream",
     "text": [
      "The autoreload extension is already loaded. To reload it, use:\n",
      "  %reload_ext autoreload\n"
     ]
    }
   ],
   "source": [
    "%load_ext autoreload\n",
    "%autoreload 2\n",
    "from src.auto_labeling.highway_env.lane_change import LaneChangeTaskSpec\n",
    "from src.models.vlas.cont_obs_token_action_cot_unified_token import ContObsTokenActionCOTVLAUnifiedToken\n",
    "\n",
    "data_folder = '/storage/Datasets/highway_env/highway_fast_v0_dqn_meta_action_5_lanes/rollouts_train'\n",
    "dataset = HighwayDataset(data_folder)\n",
    "dataloader = DataLoader(dataset, batch_size=1, shuffle=True, collate_fn=collate_fn)\n",
    "\n",
    "\n",
    "task_spec_func = LaneChangeTaskSpec"
   ]
  },
  {
   "cell_type": "code",
   "execution_count": 33,
   "metadata": {},
   "outputs": [
    {
     "name": "stderr",
     "output_type": "stream",
     "text": [
      "  0%|          | 0/10000 [00:00<?, ?it/s]"
     ]
    },
    {
     "name": "stderr",
     "output_type": "stream",
     "text": [
      "10001it [00:14, 710.60it/s]                          \n"
     ]
    }
   ],
   "source": [
    "import tqdm\n",
    "\n",
    "cnt = 0\n",
    "start_lane_id_to_goal = {id: [] for id in range(5)}\n",
    "\n",
    "with tqdm.tqdm(total=10000) as pbar:\n",
    "  for batch in dataloader:\n",
    "    obs, act, valid_mask = batch\n",
    "    cot_cfg = {'lanes_count': 5, 'max_hop': 4, 'cot_index_mode': 'both'}\n",
    "\n",
    "    task_spec = task_spec_func(obs[0][valid_mask[0]].cpu().numpy(), act[0][valid_mask[0]].cpu().numpy(), cot_cfg)\n",
    "    goal_spec = task_spec.get_goal_spec()\n",
    "    hop_lane_ids, _ = task_spec._get_task_lane_ids()\n",
    "\n",
    "    if len(hop_lane_ids) == 5:\n",
    "      start_lane_id = hop_lane_ids[0]\n",
    "      start_lane_id_to_goal[start_lane_id].append({'goal_spec': goal_spec, 'hop_lane_ids': hop_lane_ids})\n",
    "\n",
    "      cnt += 1\n",
    "      pbar.update(1)\n",
    "\n",
    "    if cnt > 10000:\n",
    "      break"
   ]
  },
  {
   "cell_type": "code",
   "execution_count": 39,
   "metadata": {},
   "outputs": [],
   "source": [
    "import pickle\n",
    "\n",
    "save_path = '/u/shuhan/projects/vla/data/highway_env/lane_change_goal_spec_data.pkl'\n",
    "with open(save_path, 'wb') as f:\n",
    "  pickle.dump(start_lane_id_to_goal, f)"
   ]
  }
 ],
 "metadata": {
  "kernelspec": {
   "display_name": "vla_hw",
   "language": "python",
   "name": "python3"
  },
  "language_info": {
   "codemirror_mode": {
    "name": "ipython",
    "version": 3
   },
   "file_extension": ".py",
   "mimetype": "text/x-python",
   "name": "python",
   "nbconvert_exporter": "python",
   "pygments_lexer": "ipython3",
   "version": "3.1.-1"
  }
 },
 "nbformat": 4,
 "nbformat_minor": 2
}
