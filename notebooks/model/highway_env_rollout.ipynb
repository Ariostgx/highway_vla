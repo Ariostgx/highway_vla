{
 "cells": [
  {
   "cell_type": "code",
   "execution_count": 92,
   "metadata": {},
   "outputs": [
    {
     "name": "stdout",
     "output_type": "stream",
     "text": [
      "The autoreload extension is already loaded. To reload it, use:\n",
      "  %reload_ext autoreload\n"
     ]
    }
   ],
   "source": [
    "%load_ext autoreload\n",
    "%autoreload 2\n",
    "import sys\n",
    "sys.path.append('/u/shuhan/projects/vla')"
   ]
  },
  {
   "cell_type": "markdown",
   "metadata": {},
   "source": []
  },
  {
   "cell_type": "code",
   "execution_count": 93,
   "metadata": {},
   "outputs": [],
   "source": [
    "from src.models.vlas.cont_obs_token_action import ContObsTokenActionVLA\n",
    "from transformers import AutoModelForCausalLM\n",
    "\n",
    "llm_backbone = AutoModelForCausalLM.from_pretrained('gpt2')\n",
    "\n",
    "hidden_dim = 768\n",
    "obs_dim = 25\n",
    "num_actions = 5\n",
    "mlp_layers = 2\n",
    "\n",
    "model = ContObsTokenActionVLA(llm_backbone, obs_dim, num_actions, hidden_dim, mlp_layers)"
   ]
  },
  {
   "cell_type": "code",
   "execution_count": 54,
   "metadata": {},
   "outputs": [
    {
     "data": {
      "text/plain": [
       "<All keys matched successfully>"
      ]
     },
     "execution_count": 54,
     "metadata": {},
     "output_type": "execute_result"
    }
   ],
   "source": [
    "import torch\n",
    "import os\n",
    "\n",
    "ckpt = os.path.expanduser('~/results/vla/quick_run/action_only/lightning_logs/version_1/checkpoints/epoch=57-step=18154.ckpt')\n",
    "\n",
    "lg_ckpt = torch.load(ckpt, map_location='cpu', weights_only=True)['state_dict']\n",
    "ori_ckpt = {}\n",
    "for k, v in lg_ckpt.items():\n",
    "    if k.startswith('vla.'):\n",
    "        ori_ckpt[k[4:]] = v\n",
    "\n",
    "model.load_state_dict(ori_ckpt)"
   ]
  },
  {
   "cell_type": "code",
   "execution_count": 89,
   "metadata": {},
   "outputs": [
    {
     "name": "stdout",
     "output_type": "stream",
     "text": [
      "rollout successfully finished!\n"
     ]
    }
   ],
   "source": [
    "from IPython.display import HTML\n",
    "import tqdm\n",
    "import numpy as np\n",
    "import gymnasium\n",
    "import highway_env\n",
    "from matplotlib import pyplot as plt\n",
    "%matplotlib inline\n",
    "\n",
    "\n",
    "observations = []\n",
    "actions = []\n",
    "reward_names = ['collision_reward', 'right_lane_reward', 'high_speed_reward', 'on_road_reward']\n",
    "rewards = {name: [] for name in reward_names}\n",
    "\n",
    "env = gymnasium.make('highway-fast-v0', render_mode='rgb_array')\n",
    "obs, _ = env.reset()\n",
    "\n",
    "observations.append(obs)\n",
    "\n",
    "rollout_length = 100  # Adjust\n",
    "\n",
    "for _ in range(rollout_length):\n",
    "    obs_input = torch.tensor(np.stack(observations), dtype=torch.float32)\n",
    "    past_actions = torch.tensor(actions)\n",
    "\n",
    "    action = model.predict_action(obs_input, past_actions).argmax().item()\n",
    "\n",
    "    obs, reward, done, truncated, info = env.step(action)\n",
    "\n",
    "    observations.append(obs)\n",
    "    actions.append(action)\n",
    "\n",
    "    for name in reward_names:\n",
    "        rewards[name].append(info['rewards'][name])\n",
    "\n",
    "    if done or truncated:\n",
    "        if truncated:\n",
    "            print('rollout successfully finished!')\n",
    "        else:\n",
    "            print('rollout failed!')\n",
    "        break\n",
    "\n",
    "env.close()\n",
    "\n",
    "avg_rewards = {name: np.mean(rewards[name]) for name in reward_names}\n",
    "rollout_steps = len(observations) - 1\n"
   ]
  },
  {
   "cell_type": "code",
   "execution_count": 90,
   "metadata": {},
   "outputs": [
    {
     "data": {
      "text/plain": [
       "{'collision_reward': 0.0,\n",
       " 'right_lane_reward': 0.7,\n",
       " 'high_speed_reward': 0.7020791344421672,\n",
       " 'on_road_reward': 1.0}"
      ]
     },
     "execution_count": 90,
     "metadata": {},
     "output_type": "execute_result"
    }
   ],
   "source": [
    "avg_rewards"
   ]
  },
  {
   "cell_type": "code",
   "execution_count": 91,
   "metadata": {},
   "outputs": [
    {
     "data": {
      "text/plain": [
       "30"
      ]
     },
     "execution_count": 91,
     "metadata": {},
     "output_type": "execute_result"
    }
   ],
   "source": [
    "rollout_steps"
   ]
  }
 ],
 "metadata": {
  "kernelspec": {
   "display_name": "vla_hw",
   "language": "python",
   "name": "python3"
  },
  "language_info": {
   "codemirror_mode": {
    "name": "ipython",
    "version": 3
   },
   "file_extension": ".py",
   "mimetype": "text/x-python",
   "name": "python",
   "nbconvert_exporter": "python",
   "pygments_lexer": "ipython3",
   "version": "3.12.7"
  }
 },
 "nbformat": 4,
 "nbformat_minor": 2
}
