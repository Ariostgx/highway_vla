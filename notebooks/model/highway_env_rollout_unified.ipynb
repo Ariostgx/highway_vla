{
 "cells": [
  {
   "cell_type": "code",
   "execution_count": 1,
   "metadata": {},
   "outputs": [],
   "source": [
    "%load_ext autoreload\n",
    "%autoreload 2\n",
    "import sys\n",
    "sys.path.append('/u/shuhan/projects/vla')"
   ]
  },
  {
   "cell_type": "code",
   "execution_count": 148,
   "metadata": {},
   "outputs": [],
   "source": [
    "from src.models.vlas.cont_obs_token_action_cot_unified_token import ContObsTokenActionCOTVLAUnifiedToken\n",
    "from src.auto_labeling.highway_env.lane_change import LaneChangeTaskSpec\n",
    "from transformers import AutoModelForCausalLM, AutoTokenizer\n",
    "\n",
    "llm_model = 'HuggingFaceTB/SmolLM2-135M-Instruct'\n",
    "\n",
    "llm_backbone = AutoModelForCausalLM.from_pretrained(llm_model)\n",
    "tokenizer = AutoTokenizer.from_pretrained(llm_model)\n",
    "\n",
    "loss_weight = {\"action\": 1.0, \"obs\": 0.0, 'reconst': 1.0, \"cot\": 1.0, \"separator\": 1.0, \"rollout_stop\": 1.0}\n",
    "cot_mode = 'start'\n",
    "cot_cfg = {'lanes_count': 5, 'max_hop': 4, 'cot_index_mode': 'both'}\n",
    "\n",
    "if llm_model == 'gpt2':\n",
    "  hidden_dim = 768\n",
    "elif llm_model == 'HuggingFaceTB/SmolLM2-135M-Instruct':\n",
    "  hidden_dim = 576\n",
    "else:\n",
    "  raise ValueError(f'Unknown LLM model: {llm_model}')\n",
    "\n",
    "obs_dim = 25\n",
    "num_actions = 5\n",
    "mlp_layers = 2\n",
    "\n",
    "task_spec_func = LaneChangeTaskSpec\n",
    "\n",
    "model = ContObsTokenActionCOTVLAUnifiedToken(llm_backbone, tokenizer, task_spec_func, obs_dim, num_actions, hidden_dim, mlp_layers, loss_weight, cot_mode, cot_cfg, max_obs_len=50)\n"
   ]
  },
  {
   "cell_type": "code",
   "execution_count": 149,
   "metadata": {},
   "outputs": [
    {
     "data": {
      "text/plain": [
       "<All keys matched successfully>"
      ]
     },
     "execution_count": 149,
     "metadata": {},
     "output_type": "execute_result"
    }
   ],
   "source": [
    "import torch\n",
    "import os\n",
    "\n",
    "ckpt = os.path.expanduser('~/results/vla/quick_run_cot_unified/start_cot_smolLM/lightning_logs/version_0/checkpoints/test_model.ckpt')\n",
    "\n",
    "lg_ckpt = torch.load(ckpt, map_location='cpu', weights_only=True)['state_dict']\n",
    "ori_ckpt = {}\n",
    "for k, v in lg_ckpt.items():\n",
    "    if k.startswith('vla.'):\n",
    "        ori_ckpt[k[4:]] = v\n",
    "\n",
    "model.load_state_dict(ori_ckpt)"
   ]
  },
  {
   "cell_type": "code",
   "execution_count": 150,
   "metadata": {},
   "outputs": [],
   "source": [
    "import gymnasium\n",
    "import highway_env\n",
    "\n",
    "lanes_cnt_5_cfg = {\n",
    "    \"lanes_count\": 5\n",
    "}\n",
    "env = gymnasium.make(\"highway-fast-v0\", render_mode='rgb_array', config=lanes_cnt_5_cfg)\n",
    "curr_obs, _ = env.reset()\n",
    "\n",
    "curr_obs = torch.tensor(curr_obs, dtype=torch.float32)"
   ]
  },
  {
   "cell_type": "code",
   "execution_count": 192,
   "metadata": {},
   "outputs": [
    {
     "name": "stdout",
     "output_type": "stream",
     "text": [
      "3\n"
     ]
    }
   ],
   "source": [
    "from IPython.display import HTML\n",
    "import tqdm\n",
    "import numpy as np\n",
    "import gymnasium\n",
    "import highway_env\n",
    "from matplotlib import pyplot as plt\n",
    "\n",
    "from transformers.cache_utils import DynamicCache\n",
    "\n",
    "%matplotlib inline\n",
    "\n",
    "\n",
    "lane_cnt = 5\n",
    "env = gymnasium.make(\"highway-fast-v0\", render_mode='rgb_array', config=lanes_cnt_5_cfg)\n",
    "curr_obs, _ = env.reset()\n",
    "\n",
    "lane_width = 1.0 / lane_cnt\n",
    "abs_y = curr_obs[..., 2].copy()\n",
    "abs_y[1:] += abs_y[:1]\n",
    "abs_y += lane_width / 2\n",
    "\n",
    "lane_ids = (abs_y / lane_width).astype(int)\n",
    "ego_lane_id = lane_ids[0]\n",
    "\n",
    "print(ego_lane_id)"
   ]
  },
  {
   "cell_type": "code",
   "execution_count": null,
   "metadata": {},
   "outputs": [],
   "source": []
  },
  {
   "cell_type": "code",
   "execution_count": 193,
   "metadata": {},
   "outputs": [
    {
     "data": {
      "text/plain": [
       "'Goal is to reach Lane 2. Need to go through path Lane 3 -> Lane 4 -> Lane 3 -> Lane 2.'"
      ]
     },
     "execution_count": 193,
     "metadata": {},
     "output_type": "execute_result"
    }
   ],
   "source": [
    "goal_spec = f\"Goal is to reach Lane 2. Need to go through path Lane 3 -> Lane 4 -> Lane 3 -> Lane 2.\"\n",
    "# goal_spec = f\"Goal is to reach Lane 1. Need to go through path Lane 4 -> Lane 3 -> Lane 2 -> Lane 1.\"\n",
    "goal_spec"
   ]
  },
  {
   "cell_type": "code",
   "execution_count": 194,
   "metadata": {},
   "outputs": [
    {
     "name": "stdout",
     "output_type": "stream",
     "text": [
      "Goal is to reach Lane 2. Need to go through path Lane 3 -> Lane 4 -> Lane 3 -> Lane 2.\n",
      "<BOO><Obs_0><EOO><BOT>Now at Lane 3. Follow Lane 4 -> Lane 3 -> Lane 2. Next is Lane 4. Action: turn right.<EOT><BOA><Act_3><EOA>\n",
      "ego_lane_id: 3\n",
      "<BOO><Obs_1><EOO><BOA><Act_3><EOA>\n",
      "ego_lane_id: 3\n",
      "<BOO><Obs_2><EOO><BOA><Act_1><EOA>\n",
      "ego_lane_id: 3\n",
      "<BOO><Obs_3><EOO><BOA><Act_1><EOA>\n",
      "ego_lane_id: 3\n",
      "<BOO><Obs_4><EOO><BOA><Act_1><EOA>\n",
      "ego_lane_id: 3\n",
      "<BOO><Obs_5><EOO><BOA><Act_2><EOA>\n",
      "ego_lane_id: 4\n",
      "<BOO><Obs_6><EOO><BOA><Act_2><EOA>\n",
      "ego_lane_id: 4\n",
      "<BOO><Obs_7><EOO><BOA><Act_1><EOA>\n",
      "ego_lane_id: 4\n",
      "<BOO><Obs_8><EOO><BOA><Act_2><EOA>\n",
      "ego_lane_id: 4\n",
      "<BOO><Obs_9><EOO><BOA><Act_0><EOA>\n",
      "ego_lane_id: 3\n",
      "<BOO><Obs_10><EOO><BOA><Act_4><EOA>\n",
      "ego_lane_id: 3\n",
      "<BOO><Obs_11><EOO><BOA><Act_3><EOA>\n",
      "ego_lane_id: 3\n",
      "<BOO><Obs_12><EOO><BOA><Act_3><EOA>\n",
      "ego_lane_id: 3\n",
      "<BOO><Obs_13><EOO><BOA><Act_3><EOA>\n",
      "ego_lane_id: 3\n",
      "<BOO><Obs_14><EOO><BOA><Act_0><EOA>\n",
      "ego_lane_id: 2\n",
      "<BOO><Obs_15><EOO><EndOfRollout><EndOfRollout><Act_2><EOA>\n",
      "model called end of rollout!\n",
      "Goal is to reach Lane 2. Need to go through path Lane 3 -> Lane 4 -> Lane 3 -> Lane 2.<BOO><Obs_0><EOO><BOT>Now at Lane 3. Follow Lane 4 -> Lane 3 -> Lane 2. Next is Lane 4. Action: turn right.<EOT><BOA><Act_3><EOA><BOO><Obs_1><EOO><BOA><Act_3><EOA><BOO><Obs_2><EOO><BOA><Act_1><EOA><BOO><Obs_3><EOO><BOA><Act_1><EOA><BOO><Obs_4><EOO><BOA><Act_1><EOA><BOO><Obs_5><EOO><BOA><Act_2><EOA><BOO><Obs_6><EOO><BOA><Act_2><EOA><BOO><Obs_7><EOO><BOA><Act_1><EOA><BOO><Obs_8><EOO><BOA><Act_2><EOA><BOO><Obs_9><EOO><BOA><Act_0><EOA><BOO><Obs_10><EOO><BOA><Act_4><EOA><BOO><Obs_11><EOO><BOA><Act_3><EOA><BOO><Obs_12><EOO><BOA><Act_3><EOA><BOO><Obs_13><EOO><BOA><Act_3><EOA><BOO><Obs_14><EOO><BOA><Act_0><EOA>\n"
     ]
    }
   ],
   "source": [
    "\n",
    "\n",
    "observations = []\n",
    "actions = []\n",
    "reward_names = ['collision_reward', 'right_lane_reward', 'high_speed_reward', 'on_road_reward']\n",
    "rewards = {name: [] for name in reward_names}\n",
    "\n",
    "lanes_cnt_5_cfg = {\n",
    "    \"lanes_count\": 5\n",
    "}\n",
    "curr_obs = torch.tensor(curr_obs, dtype=torch.float32)\n",
    "\n",
    "past_input_str = goal_spec\n",
    "past_key_value = DynamicCache()\n",
    "past_input_embeds = model.llm_backbone.get_input_embeddings()(model.llm_tokenizer(past_input_str, return_tensors='pt').input_ids.to(curr_obs.device))\n",
    "\n",
    "generate_cfg = {'max_new_tokens': 100, 'do_sample': False}\n",
    "\n",
    "\n",
    "rollout_length = 30  # Adjust\n",
    "cot_inference_mode = 'start'\n",
    "\n",
    "print(past_input_str)\n",
    "\n",
    "for _ in range(rollout_length):\n",
    "    update_str, update_embeddings = model.inference_step(past_input_embeds, past_input_str, past_key_value, curr_obs, cot_inference_mode, generate_cfg)\n",
    "\n",
    "    print(update_str)\n",
    "\n",
    "    if '<EndOfRollout>' in update_str:\n",
    "        print('model called end of rollout!')\n",
    "        break\n",
    "\n",
    "    act_index = update_str.index('<Act_')\n",
    "    act_id = int(update_str[act_index+5:act_index+6])\n",
    "\n",
    "    past_input_str = past_input_str + update_str\n",
    "    \n",
    "    if past_input_embeds is None:\n",
    "        past_input_embeds = update_embeddings\n",
    "    else:\n",
    "        past_input_embeds = torch.cat([past_input_embeds, update_embeddings], dim=1)\n",
    "\n",
    "    obs, reward, done, truncated, info = env.step(act_id)\n",
    "    lane_cnt = 5\n",
    "    lane_width = 1.0 / lane_cnt\n",
    "    abs_y = obs[..., 2].copy()\n",
    "    abs_y[1:] += abs_y[:1]\n",
    "    abs_y += lane_width / 2\n",
    "    lane_ids = (abs_y / lane_width).astype(int)\n",
    "    ego_lane_id = lane_ids[0]\n",
    "    print('ego_lane_id:', ego_lane_id)\n",
    "\n",
    "    curr_obs = torch.tensor(obs, dtype=torch.float32)\n",
    "\n",
    "\n",
    "    for name in reward_names:\n",
    "        rewards[name].append(info['rewards'][name])\n",
    "\n",
    "    if done or truncated:\n",
    "        if truncated:\n",
    "            print('rollout successfully finished!')\n",
    "        else:\n",
    "            print('rollout failed!')\n",
    "        break\n",
    "\n",
    "print(past_input_str)\n",
    "\n",
    "env.close()\n",
    "\n",
    "avg_rewards = {name: np.mean(rewards[name]) for name in reward_names}\n"
   ]
  },
  {
   "cell_type": "code",
   "execution_count": 139,
   "metadata": {},
   "outputs": [
    {
     "data": {
      "text/plain": [
       "'<BOO><Obs_7><EOO><BOT>Now at Lane 2. Follow Lane 3 -> Lane 2 -> Lane 3 -> Lane 3 -> Lane 2 -> Lane 3 -> Lane 2 -> Lane 3 -> Lane 2 -> Lane 3 -> Lane 3 -> Lane 2 -> Lane 3 -> Lane 2 -> Lane 3 -> Lane 2 -> Lane 3 -> Lane 2 -> Lane 2 -> Lane 3 -> Lane 2 -> Lane 3 -> Lane 2. Next'"
      ]
     },
     "execution_count": 139,
     "metadata": {},
     "output_type": "execute_result"
    }
   ],
   "source": [
    "update_str"
   ]
  }
 ],
 "metadata": {
  "kernelspec": {
   "display_name": "vla_hw",
   "language": "python",
   "name": "python3"
  },
  "language_info": {
   "codemirror_mode": {
    "name": "ipython",
    "version": 3
   },
   "file_extension": ".py",
   "mimetype": "text/x-python",
   "name": "python",
   "nbconvert_exporter": "python",
   "pygments_lexer": "ipython3",
   "version": "3.12.7"
  }
 },
 "nbformat": 4,
 "nbformat_minor": 2
}
